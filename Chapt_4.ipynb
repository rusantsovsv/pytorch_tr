{
 "cells": [
  {
   "cell_type": "markdown",
   "metadata": {},
   "source": [
    "# Использование упреждающих сетей при NLP"
   ]
  },
  {
   "cell_type": "code",
   "execution_count": 1,
   "metadata": {},
   "outputs": [],
   "source": [
    "import torch\n",
    "import torch.nn as nn\n",
    "import torch.nn.functional as F\n",
    "import torch.optim as optim\n",
    "\n",
    "import numpy as np\n",
    "import matplotlib.pyplot as plt\n",
    "%matplotlib inline"
   ]
  },
  {
   "cell_type": "markdown",
   "metadata": {},
   "source": [
    "### Определим глобальные переменные"
   ]
  },
  {
   "cell_type": "code",
   "execution_count": 2,
   "metadata": {},
   "outputs": [],
   "source": [
    "LABELS = [0, 0, 1, 1] # обозначение множеств\n",
    "CENTERS = [(-3, -3), (3, 3), (3, -3), (-3, 3)] # центры множеств"
   ]
  },
  {
   "cell_type": "markdown",
   "metadata": {},
   "source": [
    "### Определяем модель"
   ]
  },
  {
   "cell_type": "code",
   "execution_count": null,
   "metadata": {},
   "outputs": [],
   "source": [
    "class MultilayerPerceptron(nn.Modul):\n",
    "    \n",
    "    def __init__(self, input_size, hidden_size=2, output_size=3,\n",
    "                 num_hidden_layers=1, hidden_activation=nn.Sigmoid):\n",
    "        \"\"\"\n",
    "        Инициализируем веса.\n",
    "        Аргументы:\n",
    "            input_dim (int): размер входных векторов\n",
    "            hidden_dim (int): размер выходных результатов первого линейного слоя\n",
    "            output_dim (int): размер выходных результатов второго линейного слоя \n",
    "            num_hidden_layers(int): количество скрытых слоев\n",
    "            hidden_activation(torch.nn.*): функция активации\n",
    "        \"\"\"\n",
    "        \n",
    "        super(MultilayerPerceptron, self).__init__()\n",
    "        # модуль, содержащий список слоев\n",
    "        self.module_list = nn.ModuleList()\n",
    "        \n",
    "        interim_input_size = input_size\n",
    "        interim_output_size = hidden_size\n",
    "        \n",
    "        # создаем скрытые слои\n",
    "        for _ in range(num_hidden_layers):\n",
    "            # добавляем слой, учитывая его размер\n",
    "            self.module_list.append(nn.Linear(interim_input_size, interim_output_size))\n",
    "            # добавляем функцию активации\n",
    "            self.module_list.append"
   ]
  }
 ],
 "metadata": {
  "kernelspec": {
   "display_name": "Python 3",
   "language": "python",
   "name": "python3"
  },
  "language_info": {
   "codemirror_mode": {
    "name": "ipython",
    "version": 3
   },
   "file_extension": ".py",
   "mimetype": "text/x-python",
   "name": "python",
   "nbconvert_exporter": "python",
   "pygments_lexer": "ipython3",
   "version": "3.7.4"
  }
 },
 "nbformat": 4,
 "nbformat_minor": 4
}
